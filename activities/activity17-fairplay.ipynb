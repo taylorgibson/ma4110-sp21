{
 "cells": [
  {
   "cell_type": "code",
   "execution_count": 1,
   "id": "thermal-field",
   "metadata": {},
   "outputs": [],
   "source": [
    "from datascience import *\n",
    "import numpy as np\n",
    "\n",
    "%matplotlib inline\n",
    "import matplotlib.pyplot as plots\n",
    "plots.style.use('fivethirtyeight')"
   ]
  },
  {
   "cell_type": "markdown",
   "id": "removable-overview",
   "metadata": {},
   "source": [
    "# Activity 17: Determining Fairness of Coins and Dice"
   ]
  },
  {
   "cell_type": "markdown",
   "id": "wrapped-bronze",
   "metadata": {},
   "source": [
    "Suppose you find a few coints laying on the ground out behind a magic shop. You suspect that these coins might be bent or weighted in some way to make them \"unfair\", meaning that one side is more likely to appear than the other. You flip them all a few times and keep track of the table below:"
   ]
  },
  {
   "cell_type": "code",
   "execution_count": 41,
   "id": "formed-virgin",
   "metadata": {},
   "outputs": [
    {
     "data": {
      "text/html": [
       "<table border=\"1\" class=\"dataframe\">\n",
       "    <thead>\n",
       "        <tr>\n",
       "            <th>coin1</th> <th>coin2</th> <th>coin3</th> <th>coin4</th> <th>coin5</th> <th>coin6</th>\n",
       "        </tr>\n",
       "    </thead>\n",
       "    <tbody>\n",
       "        <tr>\n",
       "            <td>T    </td> <td>T    </td> <td>T    </td> <td>H    </td> <td>T    </td> <td>H    </td>\n",
       "        </tr>\n",
       "        <tr>\n",
       "            <td>T    </td> <td>T    </td> <td>T    </td> <td>T    </td> <td>T    </td> <td>T    </td>\n",
       "        </tr>\n",
       "        <tr>\n",
       "            <td>H    </td> <td>T    </td> <td>T    </td> <td>H    </td> <td>T    </td> <td>H    </td>\n",
       "        </tr>\n",
       "        <tr>\n",
       "            <td>T    </td> <td>H    </td> <td>T    </td> <td>T    </td> <td>T    </td> <td>H    </td>\n",
       "        </tr>\n",
       "        <tr>\n",
       "            <td>T    </td> <td>T    </td> <td>H    </td> <td>T    </td> <td>T    </td> <td>T    </td>\n",
       "        </tr>\n",
       "        <tr>\n",
       "            <td>H    </td> <td>T    </td> <td>T    </td> <td>T    </td> <td>H    </td> <td>H    </td>\n",
       "        </tr>\n",
       "        <tr>\n",
       "            <td>H    </td> <td>H    </td> <td>T    </td> <td>T    </td> <td>H    </td> <td>T    </td>\n",
       "        </tr>\n",
       "        <tr>\n",
       "            <td>H    </td> <td>T    </td> <td>T    </td> <td>T    </td> <td>H    </td> <td>T    </td>\n",
       "        </tr>\n",
       "        <tr>\n",
       "            <td>H    </td> <td>T    </td> <td>T    </td> <td>T    </td> <td>H    </td> <td>H    </td>\n",
       "        </tr>\n",
       "        <tr>\n",
       "            <td>H    </td> <td>T    </td> <td>T    </td> <td>T    </td> <td>T    </td> <td>T    </td>\n",
       "        </tr>\n",
       "    </tbody>\n",
       "</table>\n",
       "<p>... (47 rows omitted)</p>"
      ],
      "text/plain": [
       "coin1 | coin2 | coin3 | coin4 | coin5 | coin6\n",
       "T     | T     | T     | H     | T     | H\n",
       "T     | T     | T     | T     | T     | T\n",
       "H     | T     | T     | H     | T     | H\n",
       "T     | H     | T     | T     | T     | H\n",
       "T     | T     | H     | T     | T     | T\n",
       "H     | T     | T     | T     | H     | H\n",
       "H     | H     | T     | T     | H     | T\n",
       "H     | T     | T     | T     | H     | T\n",
       "H     | T     | T     | T     | H     | H\n",
       "H     | T     | T     | T     | T     | T\n",
       "... (47 rows omitted)"
      ]
     },
     "execution_count": 41,
     "metadata": {},
     "output_type": "execute_result"
    }
   ],
   "source": [
    "coins = Table.read_table('data/coins.csv')\n",
    "coins"
   ]
  },
  {
   "cell_type": "markdown",
   "id": "colored-exploration",
   "metadata": {},
   "source": [
    "## Unfair Coins?\n",
    "\n",
    "Which (if any) of the coins do you suspect to be unfair? Use a simulation approach to determine which of the coins you suspect to be most likely to be unfair. As a reminder, the steps for running a simulation are:\n",
    "\n",
    "* Determine the model and alternative viewpoint (the set of mathematical assumptions about the situation)\n",
    "* Come up with a statistic that will help you decide whether the data support the model or an alternative view of the world.\n",
    "* Simulate the statistic under the assumptions of the model. \n",
    "* Draw a histogram of the simulated values. This is the model’s prediction for how the statistic should come out.\n",
    "* Compute the observed statistic from the sample in the study.\n",
    "* Compare this value with the histogram.\n",
    "* If the two are not consistent, that’s evidence against the model."
   ]
  },
  {
   "cell_type": "markdown",
   "id": "consecutive-mentor",
   "metadata": {},
   "source": [
    "## The Model\n",
    "\n",
    "What do we believe is most likely about real life under our current beliefs of the world?"
   ]
  },
  {
   "cell_type": "code",
   "execution_count": null,
   "id": "demanding-holocaust",
   "metadata": {},
   "outputs": [],
   "source": [
    "# Make an array that holds the likelihood of each outcome\n",
    "# using the assumptions of your model\n",
    "model = ..."
   ]
  },
  {
   "cell_type": "markdown",
   "id": "irish-joseph",
   "metadata": {},
   "source": [
    "## The Statistic\n",
    "\n",
    "What measurement would we need to determine if our observations were in agreement with the model? Calculate this statistic for your observations **for a single coin** (you choose which one you want to investigate)."
   ]
  },
  {
   "cell_type": "code",
   "execution_count": null,
   "id": "pointed-textbook",
   "metadata": {},
   "outputs": [],
   "source": [
    "# Calculate the statistic using your observed data\n",
    "observed_statistic = ..."
   ]
  },
  {
   "cell_type": "markdown",
   "id": "favorite-landscape",
   "metadata": {},
   "source": [
    "## Simulation\n",
    "\n",
    "Run 10,000 trials using the assumptions of our model. Store the simulated statistics into an array."
   ]
  },
  {
   "cell_type": "code",
   "execution_count": null,
   "id": "insured-marshall",
   "metadata": {},
   "outputs": [],
   "source": [
    "# Run the simulation\n"
   ]
  },
  {
   "cell_type": "markdown",
   "id": "spare-animal",
   "metadata": {},
   "source": [
    "## Visualization\n",
    "\n",
    "Make a histrogram to see how the simulated statistics are distributed."
   ]
  },
  {
   "cell_type": "code",
   "execution_count": null,
   "id": "unique-combining",
   "metadata": {},
   "outputs": [],
   "source": [
    "# Make the histogram\n"
   ]
  },
  {
   "cell_type": "markdown",
   "id": "photographic-yesterday",
   "metadata": {},
   "source": [
    "## Compare\n",
    "\n",
    "How does your observed statistic compare to the distribution of statistics made under the assumptions of the model? Do they seem to be similar or different? Any close calls?"
   ]
  },
  {
   "cell_type": "markdown",
   "id": "rational-allocation",
   "metadata": {},
   "source": [
    "# Loaded Dice?\n",
    "\n",
    "You found a singular die with the coins and rolled it 200 times. Run the cell below to see the results."
   ]
  },
  {
   "cell_type": "code",
   "execution_count": 49,
   "id": "present-performance",
   "metadata": {},
   "outputs": [
    {
     "data": {
      "text/html": [
       "<table border=\"1\" class=\"dataframe\">\n",
       "    <thead>\n",
       "        <tr>\n",
       "            <th>Face</th> <th>Observed</th>\n",
       "        </tr>\n",
       "    </thead>\n",
       "    <tbody>\n",
       "        <tr>\n",
       "            <td>One  </td> <td>50      </td>\n",
       "        </tr>\n",
       "        <tr>\n",
       "            <td>Two  </td> <td>33      </td>\n",
       "        </tr>\n",
       "        <tr>\n",
       "            <td>Three</td> <td>16      </td>\n",
       "        </tr>\n",
       "        <tr>\n",
       "            <td>Four </td> <td>31      </td>\n",
       "        </tr>\n",
       "        <tr>\n",
       "            <td>Five </td> <td>45      </td>\n",
       "        </tr>\n",
       "        <tr>\n",
       "            <td>Six  </td> <td>25      </td>\n",
       "        </tr>\n",
       "    </tbody>\n",
       "</table>"
      ],
      "text/plain": [
       "Face  | Observed\n",
       "One   | 50\n",
       "Two   | 33\n",
       "Three | 16\n",
       "Four  | 31\n",
       "Five  | 45\n",
       "Six   | 25"
      ]
     },
     "execution_count": 49,
     "metadata": {},
     "output_type": "execute_result"
    }
   ],
   "source": [
    "dice_rolls = Table().with_columns('Face', make_array('One', 'Two', 'Three', 'Four', 'Five', 'Six'), 'Observed', make_array(50., 33., 16., 31., 45., 25.))\n",
    "dice_rolls"
   ]
  },
  {
   "cell_type": "markdown",
   "id": "continued-christopher",
   "metadata": {},
   "source": [
    "## The Model\n",
    "\n",
    "What do we believe is most likely about real life under our current beliefs of the world?"
   ]
  },
  {
   "cell_type": "code",
   "execution_count": null,
   "id": "theoretical-mistake",
   "metadata": {},
   "outputs": [],
   "source": []
  },
  {
   "cell_type": "markdown",
   "id": "thick-fifteen",
   "metadata": {},
   "source": [
    "## The Statistic\n",
    "\n",
    "What measurement would we need to determine if our observations were in agreement with the model? Calculate this statistic for your single observation."
   ]
  },
  {
   "cell_type": "code",
   "execution_count": null,
   "id": "divine-stand",
   "metadata": {},
   "outputs": [],
   "source": []
  },
  {
   "cell_type": "markdown",
   "id": "accessory-minute",
   "metadata": {},
   "source": [
    "## Simulation\n",
    "\n",
    "Run 10,000 trials using the assumptions of our model. Store the simulated statistics into an array."
   ]
  },
  {
   "cell_type": "code",
   "execution_count": null,
   "id": "frank-melbourne",
   "metadata": {},
   "outputs": [],
   "source": []
  },
  {
   "cell_type": "markdown",
   "id": "satisfactory-stretch",
   "metadata": {},
   "source": [
    "## Visualization\n",
    "\n",
    "Make a histrogram to see how the simulated statistics are distributed."
   ]
  },
  {
   "cell_type": "code",
   "execution_count": null,
   "id": "insured-company",
   "metadata": {},
   "outputs": [],
   "source": []
  },
  {
   "cell_type": "markdown",
   "id": "renewable-month",
   "metadata": {},
   "source": [
    "## Compare\n",
    "\n",
    "How does your observed statistic compare to the distribution of statistics made under the assumptions of the model? Do they seem to be similar or different?"
   ]
  },
  {
   "cell_type": "code",
   "execution_count": null,
   "id": "global-federal",
   "metadata": {},
   "outputs": [],
   "source": []
  }
 ],
 "metadata": {
  "kernelspec": {
   "display_name": "Python 3",
   "language": "python",
   "name": "python3"
  },
  "language_info": {
   "codemirror_mode": {
    "name": "ipython",
    "version": 3
   },
   "file_extension": ".py",
   "mimetype": "text/x-python",
   "name": "python",
   "nbconvert_exporter": "python",
   "pygments_lexer": "ipython3",
   "version": "3.8.6"
  }
 },
 "nbformat": 4,
 "nbformat_minor": 5
}
