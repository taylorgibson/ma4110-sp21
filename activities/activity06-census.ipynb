{
 "cells": [
  {
   "cell_type": "code",
   "execution_count": null,
   "id": "gentle-contest",
   "metadata": {},
   "outputs": [],
   "source": [
    "from datascience import *\n",
    "import numpy as np"
   ]
  },
  {
   "cell_type": "markdown",
   "id": "parliamentary-geology",
   "metadata": {},
   "source": [
    "# Activity 06: Census"
   ]
  },
  {
   "cell_type": "markdown",
   "id": "creative-problem",
   "metadata": {},
   "source": [
    "The US completes a census every 10 years to take a count of all people living in the country. Then, each year the US Census Bureau creates an updated estimate of that population until the next census is completed.\n",
    "\n",
    "Load the data from the US Census Bureau from the 2019 update ([source](https://www2.census.gov/programs-surveys/popest/technical-documentation/file-layouts/2010-2019/?C=S;O=A))"
   ]
  },
  {
   "cell_type": "code",
   "execution_count": null,
   "id": "primary-tuning",
   "metadata": {},
   "outputs": [],
   "source": [
    "full = Table.read_table('data/nc-est2019-agesex-res.csv')\n",
    "full"
   ]
  },
  {
   "cell_type": "markdown",
   "id": "particular-ivory",
   "metadata": {},
   "source": [
    "### Data fields (in order of appearance):\n",
    "\n",
    "|VARIABLE|DESCRIPTION|\n",
    "|--------|-----------|\n",
    "|SEX|Sex\n",
    "|AGE|Age|\n",
    "|CENSUS2010POP|4/1/2010 resident Census 2010 population|\n",
    "|ESTIMATESBASE2010|4/1/2010 resident population estimates base|\n",
    "|POPESTIMATE2010|7/1/2010 resident population estimate|\n",
    "|POPESTIMATE2011|7/1/2011 resident population estimate|\n",
    "|POPESTIMATE2012|7/1/2012 resident population estimate|\n",
    "|POPESTIMATE2013|7/1/2013 resident population estimate|\n",
    "|POPESTIMATE2014|7/1/2014 resident population estimate|\n",
    "|POPESTIMATE2015|7/1/2015 resident population estimate|\n",
    "|POPESTIMATE2016|7/1/2016 resident population estimate|\n",
    "|POPESTIMATE2017|7/1/2017 resident population estimate|\n",
    "|POPESTIMATE2018|7/1/2018 resident population estimate|\n",
    "|POPESTIMATE2019|7/1/2019 resident population estimate|\n",
    "\n",
    "### `SEX`\n",
    "The key for SEX is as follows:\n",
    "\n",
    ">0 = Total\n",
    ">\n",
    ">1 = Male\n",
    ">\n",
    ">2 = Female\n",
    "\n",
    "### `AGE`\n",
    "AGE is single-year of age (0, 1, 2, . . ., 99, 100+ years) and 999 is used to indicate total population"
   ]
  },
  {
   "cell_type": "markdown",
   "id": "dominican-million",
   "metadata": {},
   "source": [
    "## Exploring the Data\n",
    "\n",
    "Now, let's focus on the popultionas from the official census in 2010 and the most recent estimates available from 2019. Select only the columns `SEX`, `AGE`, `CENSUS2010POP`, and `POPESTIMATE2019`."
   ]
  },
  {
   "cell_type": "code",
   "execution_count": null,
   "id": "superior-south",
   "metadata": {},
   "outputs": [],
   "source": [
    "# Select the columns needed from `full`\n",
    "partial = ...\n",
    "partial"
   ]
  },
  {
   "cell_type": "code",
   "execution_count": null,
   "id": "tender-catering",
   "metadata": {},
   "outputs": [],
   "source": [
    "# Rename the columns to make them easier to refer to\n"
   ]
  },
  {
   "cell_type": "code",
   "execution_count": null,
   "id": "blank-isaac",
   "metadata": {},
   "outputs": [],
   "source": [
    "# Look at some line graphs and discuss the patterns\n"
   ]
  },
  {
   "cell_type": "markdown",
   "id": "turkish-bennett",
   "metadata": {},
   "source": [
    "## Percent Change\n",
    "\n",
    "Create a new table named `changes` that has the following columns: `AGE`, `POPCHANGE`, and `PERCENTCHANGE`, where each row corresponds to a row in the `partial` table where `SEX` was 0, and `AGE` was for a single-year (not 999). The `POPCHANGE` column should represent the popualation growth from the 2010 census to the 2019 estimate, measured in people, and `PERCENTCHANGE` column should represent the percent change between from the 2010 census to the 2019 estimate. Use array operations to calculate these columns and table methods to create the table that contains them."
   ]
  },
  {
   "cell_type": "code",
   "execution_count": null,
   "id": "registered-television",
   "metadata": {},
   "outputs": [],
   "source": [
    "# Create a table with the reduced set of rows and columns\n",
    "initial = ..."
   ]
  },
  {
   "cell_type": "code",
   "execution_count": null,
   "id": "central-aspect",
   "metadata": {},
   "outputs": [],
   "source": [
    "# Create an array that contains the values for the `POPCHANGE` column\n",
    "population_change = ..."
   ]
  },
  {
   "cell_type": "code",
   "execution_count": null,
   "id": "appointed-internet",
   "metadata": {},
   "outputs": [],
   "source": [
    "# Create an array that contains the values for the `PERCENTCHANGE` column\n",
    "percent_change = ..."
   ]
  },
  {
   "cell_type": "code",
   "execution_count": null,
   "id": "found-interface",
   "metadata": {},
   "outputs": [],
   "source": [
    "# Create the final table named `changes`\n",
    "changes = ..."
   ]
  }
 ],
 "metadata": {
  "kernelspec": {
   "display_name": "Python 3",
   "language": "python",
   "name": "python3"
  },
  "language_info": {
   "codemirror_mode": {
    "name": "ipython",
    "version": 3
   },
   "file_extension": ".py",
   "mimetype": "text/x-python",
   "name": "python",
   "nbconvert_exporter": "python",
   "pygments_lexer": "ipython3",
   "version": "3.8.6"
  }
 },
 "nbformat": 4,
 "nbformat_minor": 5
}
