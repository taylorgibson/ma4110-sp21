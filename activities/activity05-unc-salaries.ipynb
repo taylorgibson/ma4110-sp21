{
 "cells": [
  {
   "cell_type": "code",
   "execution_count": 1,
   "id": "consolidated-sharp",
   "metadata": {},
   "outputs": [],
   "source": [
    "from datascience import *\n",
    "import numpy as np"
   ]
  },
  {
   "cell_type": "markdown",
   "id": "cathedral-joining",
   "metadata": {},
   "source": [
    "# UNC System Salary Information"
   ]
  },
  {
   "cell_type": "markdown",
   "id": "civilian-dubai",
   "metadata": {},
   "source": [
    "The UNC System maintains a publically available database of employees and their salaries that can be found on the web. From their website:\n",
    "\n",
    "> **What information is provided in the database?** This database contains the names, position titles and salaries of permanent employees of the University, as furnished by UNC System Office and the constituent institutions of The University of North Carolina.\n",
    ">\n",
    ">**What information is not provided in the database?** We currently do not have data available for UNC Health Care, UNC Press or the North Carolina School of Science and Math.\n",
    ">\n",
    ">**How frequently is the data updated?** The data provided in this database is updated quarterly and represents a snapshot of employees, salaries, and titles as of the date listed. Because it is a snapshot, the database may not accurately reflect an employee's permanent salary or all sources of funding provided throughout the year. As examples, the database may not capture all external fund sources that may compensate some employees, or the information may capture temporary salary increases or temporary title changes for additional duties for an employee that could change in the course of the year.\n",
    ">\n",
    ">**What if I have questions about an employee's salary or other personnel information?** If you believe that information about a particular employee is inaccurate or if you have other questions about the information provided in the database, you may contact the HR department at the constituent institution to verify the employee's salary.\n",
    ">\n",
    ">**Why do we publish this data?** Employee salaries are public and we believe that publishing salaries benefits both the public by providing easily accessible salary information and the employing institutions by minimizing public personnel information requests.\n",
    "\n",
    "You'll find a `.csv` file containing the full database with names removed in the `/activities/data/` folder as `unc_salaries.csv`. \n",
    "\n",
    "Load this file as a Table named `unc`. "
   ]
  },
  {
   "cell_type": "code",
   "execution_count": 2,
   "id": "naval-agriculture",
   "metadata": {},
   "outputs": [
    {
     "data": {
      "text/html": [
       "<table border=\"1\" class=\"dataframe\">\n",
       "    <thead>\n",
       "        <tr>\n",
       "            <th>INSTITUTION NAME</th> <th>AGE</th> <th>INITIAL HIRE DATE</th> <th>JOB CATEGORY</th> <th>EMPLOYEE ANNUAL BASE SALARY</th> <th>EMPLOYEE HOME DEPARTMENT</th> <th>PRIMARY WORKING TITLE</th>\n",
       "        </tr>\n",
       "    </thead>\n",
       "    <tbody>\n",
       "        <tr>\n",
       "            <td>ASU             </td> <td>69  </td> <td>AUG 01, 1998     </td> <td>Librarian AC, Other                                         </td> <td>49507                      </td> <td>Library                            </td> <td>Adjunct Assistant Professor</td>\n",
       "        </tr>\n",
       "        <tr>\n",
       "            <td>ASU             </td> <td>63  </td> <td>AUG 24, 1998     </td> <td>Librarian AC, Other                                         </td> <td>23558                      </td> <td>Library                            </td> <td>Adjunct Assistant Professor</td>\n",
       "        </tr>\n",
       "        <tr>\n",
       "            <td>ASU             </td> <td>47  </td> <td>JAN 16, 2018     </td> <td>Lecturer                                                    </td> <td>47000                      </td> <td>Sustainable Technlgy & Built Envirn</td> <td>Adjunct Instructor         </td>\n",
       "        </tr>\n",
       "        <tr>\n",
       "            <td>ASU             </td> <td>41  </td> <td>DEC 01, 2004     </td> <td>Lecturer                                                    </td> <td>36000                      </td> <td>English                            </td> <td>Lecturer                   </td>\n",
       "        </tr>\n",
       "        <tr>\n",
       "            <td>ASU             </td> <td>59  </td> <td>MAY 23, 2005     </td> <td>Food Prep Worker                                            </td> <td>31200                      </td> <td>Sanford Commons                    </td> <td>Food Service Technician    </td>\n",
       "        </tr>\n",
       "        <tr>\n",
       "            <td>ASU             </td> <td>37  </td> <td>AUG 26, 2011     </td> <td>Assistant Professor                                         </td> <td>68945                      </td> <td>Psychology                         </td> <td>Assistant Professor        </td>\n",
       "        </tr>\n",
       "        <tr>\n",
       "            <td>ASU             </td> <td>42  </td> <td>JUL 18, 2012     </td> <td>Student Activities Professional, Student Activities Assi ...</td> <td>53542                      </td> <td>Campus Activities                  </td> <td>Asst Dir, Org Leadership   </td>\n",
       "        </tr>\n",
       "        <tr>\n",
       "            <td>ASU             </td> <td>54  </td> <td>JUL 31, 2001     </td> <td>Nursing Professional                                        </td> <td>51504                      </td> <td>Health Services                    </td> <td>Professional Nurse         </td>\n",
       "        </tr>\n",
       "        <tr>\n",
       "            <td>ASU             </td> <td>50  </td> <td>AUG 01, 2005     </td> <td>Administrative / Office / Clerical Support Staff, Other     </td> <td>35484                      </td> <td>School Of Music                    </td> <td>Administrative Support Spec</td>\n",
       "        </tr>\n",
       "        <tr>\n",
       "            <td>ASU             </td> <td>40  </td> <td>APR 16, 2018     </td> <td>Chief Budget Officer                                        </td> <td>110000                     </td> <td>University Budget                  </td> <td>University Budget Director </td>\n",
       "        </tr>\n",
       "    </tbody>\n",
       "</table>\n",
       "<p>... (47643 rows omitted)</p>"
      ],
      "text/plain": [
       "INSTITUTION NAME | AGE  | INITIAL HIRE DATE | JOB CATEGORY                                                 | EMPLOYEE ANNUAL BASE SALARY | EMPLOYEE HOME DEPARTMENT            | PRIMARY WORKING TITLE\n",
       "ASU              | 69   | AUG 01, 1998      | Librarian AC, Other                                          | 49507                       | Library                             | Adjunct Assistant Professor\n",
       "ASU              | 63   | AUG 24, 1998      | Librarian AC, Other                                          | 23558                       | Library                             | Adjunct Assistant Professor\n",
       "ASU              | 47   | JAN 16, 2018      | Lecturer                                                     | 47000                       | Sustainable Technlgy & Built Envirn | Adjunct Instructor\n",
       "ASU              | 41   | DEC 01, 2004      | Lecturer                                                     | 36000                       | English                             | Lecturer\n",
       "ASU              | 59   | MAY 23, 2005      | Food Prep Worker                                             | 31200                       | Sanford Commons                     | Food Service Technician\n",
       "ASU              | 37   | AUG 26, 2011      | Assistant Professor                                          | 68945                       | Psychology                          | Assistant Professor\n",
       "ASU              | 42   | JUL 18, 2012      | Student Activities Professional, Student Activities Assi ... | 53542                       | Campus Activities                   | Asst Dir, Org Leadership\n",
       "ASU              | 54   | JUL 31, 2001      | Nursing Professional                                         | 51504                       | Health Services                     | Professional Nurse\n",
       "ASU              | 50   | AUG 01, 2005      | Administrative / Office / Clerical Support Staff, Other      | 35484                       | School Of Music                     | Administrative Support Spec\n",
       "ASU              | 40   | APR 16, 2018      | Chief Budget Officer                                         | 110000                      | University Budget                   | University Budget Director\n",
       "... (47643 rows omitted)"
      ]
     },
     "execution_count": 2,
     "metadata": {},
     "output_type": "execute_result"
    }
   ],
   "source": [
    "unc = Table.read_table('data/unc_salaries.csv')\n",
    "unc"
   ]
  },
  {
   "cell_type": "markdown",
   "id": "japanese-round",
   "metadata": {},
   "source": [
    "The different options for the values in the column labeled `INSTITUTION NAME` are:\n",
    "* `'ASU'`: Applachian State University\n",
    "* `'ECSU'`: Elizabeth City State University\n",
    "* `'ECU'`: East Carolina University\n",
    "* `'FSU'`: Fayetteville State University\n",
    "* `'NCA&T'`: North Carolina A&T State University\n",
    "* `'NCCU'`: North Carolina Central University\n",
    "* `'NCSU'`: North Carolina State University\n",
    "* `'UNC-CH'`: University of North Carolina at Chapel Hill\n",
    "* `'UNCA'`:  University of North Carolina at Asheville\n",
    "* `'UNCC'`:  University of North Carolina at Charlotte\n",
    "* `'UNCG'`: University of North Carolina at Greensboro\n",
    "* `'UNCP'`: The University of North Carolina at Pembroke\n",
    "* `'UNCSA'`: University of North Carolina School of the Arts\n",
    "* `'UNCW'`: University of North Carolina at Wilmington\n",
    "* `'WCU'`: Western Carolina University\n",
    "* `'WSSU'`: Winston Salem State University"
   ]
  },
  {
   "cell_type": "code",
   "execution_count": null,
   "id": "designing-exclusive",
   "metadata": {},
   "outputs": [],
   "source": []
  }
 ],
 "metadata": {
  "kernelspec": {
   "display_name": "Python 3",
   "language": "python",
   "name": "python3"
  },
  "language_info": {
   "codemirror_mode": {
    "name": "ipython",
    "version": 3
   },
   "file_extension": ".py",
   "mimetype": "text/x-python",
   "name": "python",
   "nbconvert_exporter": "python",
   "pygments_lexer": "ipython3",
   "version": "3.8.6"
  }
 },
 "nbformat": 4,
 "nbformat_minor": 5
}
