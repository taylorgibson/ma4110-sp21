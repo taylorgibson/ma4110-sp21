{
 "cells": [
  {
   "cell_type": "markdown",
   "id": "focused-tenant",
   "metadata": {},
   "source": [
    "# Apple Photos\n",
    "\n",
    "You may not know this, but anytime you take a photo on your iPhone, a lot of machine learning goes on behind the scenes to determine loads of information about the photo. Where it was taken, what's in it, and even how good of a photo it is.\n",
    "\n",
    "A data scientist built a tool to extract all that information from any Apple Photos database and put it into a more readable format. The tools is called dogsheep photos, and is available to install on your Mac: https://github.com/dogsheep/dogsheep-photos. For today, we'll use about 500 or so of his photos to explore the information that an Apple Photos database contains. All information has come from: https://dogsheep-photos.dogsheep.net/ which is a publically available database of photos from Simon Willison, the author of Dog Sheep Photos."
   ]
  },
  {
   "cell_type": "markdown",
   "id": "multiple-texas",
   "metadata": {},
   "source": [
    "## Getting Started\n",
    "\n",
    "Get started by running the code below to load in all the table operations you learned about in Lesson 03. These table operations are not built into the standard Python library of tools, so we need to import them all from the `datascience` Python module, which is maintained by UC-Berkeley."
   ]
  },
  {
   "cell_type": "code",
   "execution_count": 1,
   "id": "mental-words",
   "metadata": {},
   "outputs": [],
   "source": [
    "from datascience import *"
   ]
  },
  {
   "cell_type": "markdown",
   "id": "average-cologne",
   "metadata": {},
   "source": [
    "Now, we need to load up some information on the photos. We'll create two tables, `photos` which will contain almost all the metadata about the photos, and `labels` which contains additional information about what Apple thinks the photo is of (person, animal, tree, etc.)"
   ]
  },
  {
   "cell_type": "code",
   "execution_count": 19,
   "id": "streaming-extra",
   "metadata": {},
   "outputs": [],
   "source": [
    "photos = Table.read_table('data/apple_photos.csv')\n",
    "labels = Table.read_table('data/apple_labels.csv')"
   ]
  },
  {
   "cell_type": "markdown",
   "id": "social-sociology",
   "metadata": {},
   "source": [
    "### Photos\n",
    "\n",
    "Let's take a look at what we're working with in the `photos` table and select only a few attributes to keep."
   ]
  },
  {
   "cell_type": "code",
   "execution_count": 36,
   "id": "embedded-start",
   "metadata": {},
   "outputs": [
    {
     "data": {
      "text/html": [
       "<table border=\"1\" class=\"dataframe\">\n",
       "    <thead>\n",
       "        <tr>\n",
       "            <th>rowid</th> <th>photo</th> <th>uuid</th> <th>date</th> <th>albums</th> <th>persons</th> <th>ext</th> <th>sha256</th> <th>size</th> <th>latitude</th> <th>longitude</th> <th>favorite</th> <th>portrait</th> <th>screenshot</th> <th>slow_mo</th> <th>time_lapse</th> <th>hdr</th> <th>selfie</th> <th>panorama</th> <th>place_city</th> <th>place_state_province</th> <th>place_country</th> <th>ZUUID</th> <th>ZOVERALLAESTHETICSCORE</th> <th>ZCURATIONSCORE</th> <th>ZPROMOTIONSCORE</th> <th>ZHIGHLIGHTVISIBILITYSCORE</th> <th>ZBEHAVIORALSCORE</th> <th>ZFAILURESCORE</th> <th>ZHARMONIOUSCOLORSCORE</th> <th>ZIMMERSIVENESSSCORE</th> <th>ZINTERACTIONSCORE</th> <th>ZINTERESTINGSUBJECTSCORE</th> <th>ZINTRUSIVEOBJECTPRESENCESCORE</th> <th>ZLIVELYCOLORSCORE</th> <th>ZLOWLIGHT</th> <th>ZNOISESCORE</th> <th>ZPLEASANTCAMERATILTSCORE</th> <th>ZPLEASANTCOMPOSITIONSCORE</th> <th>ZPLEASANTLIGHTINGSCORE</th> <th>ZPLEASANTPATTERNSCORE</th> <th>ZPLEASANTPERSPECTIVESCORE</th> <th>ZPLEASANTPOSTPROCESSINGSCORE</th> <th>ZPLEASANTREFLECTIONSSCORE</th> <th>ZPLEASANTSYMMETRYSCORE</th> <th>ZSHARPLYFOCUSEDSUBJECTSCORE</th> <th>ZTASTEFULLYBLURREDSCORE</th> <th>ZWELLCHOSENSUBJECTSCORE</th> <th>ZWELLFRAMEDSUBJECTSCORE</th> <th>ZWELLTIMEDSHOTSCORE</th>\n",
       "        </tr>\n",
       "    </thead>\n",
       "    <tbody>\n",
       "        <tr>\n",
       "            <td>280  </td> <td>{\"img_src\":\"https://photos.simonwillison.net/i/864ec4f46 ...</td> <td>17AF724E-5561-4DF0-877F-DE60DBBBA8B9</td> <td>2020-05-19T04:34:48+00:00</td> <td>[\"Public\"]                           </td> <td>[\"Natalie Downe\"]</td> <td>jpeg</td> <td>864ec4f46779b8892961f816730c9b2945989731f1506bc835f9a322 ...</td> <td>8346279</td> <td>nan     </td> <td>nan      </td> <td>1       </td> <td>0       </td> <td>0         </td> <td>0      </td> <td>0         </td> <td>0   </td> <td>0     </td> <td>0       </td> <td>nan          </td> <td>nan                 </td> <td>nan          </td> <td>nan  </td> <td>nan                   </td> <td>nan           </td> <td>nan            </td> <td>nan                      </td> <td>nan             </td> <td>nan          </td> <td>nan                  </td> <td>nan                </td> <td>nan              </td> <td>nan                     </td> <td>nan                          </td> <td>nan              </td> <td>nan      </td> <td>nan        </td> <td>nan                     </td> <td>nan                      </td> <td>nan                   </td> <td>nan                  </td> <td>nan                      </td> <td>nan                         </td> <td>nan                      </td> <td>nan                   </td> <td>nan                        </td> <td>nan                    </td> <td>nan                    </td> <td>nan                    </td> <td>nan                </td>\n",
       "        </tr>\n",
       "        <tr>\n",
       "            <td>68   </td> <td>{\"img_src\":\"https://photos.simonwillison.net/i/1eb3a357d ...</td> <td>63ED2057-1E46-45AF-9F7D-1DE5F84BEBFD</td> <td>2020-05-19T04:32:54+00:00</td> <td>[\"Public\"]                           </td> <td>[]               </td> <td>jpeg</td> <td>1eb3a357d57391efeec21aed767c395645bfa2bb882d75ce85c7dfa4 ...</td> <td>8794906</td> <td>nan     </td> <td>nan      </td> <td>1       </td> <td>0       </td> <td>0         </td> <td>0      </td> <td>0         </td> <td>0   </td> <td>0     </td> <td>0       </td> <td>nan          </td> <td>nan                 </td> <td>nan          </td> <td>nan  </td> <td>nan                   </td> <td>nan           </td> <td>nan            </td> <td>nan                      </td> <td>nan             </td> <td>nan          </td> <td>nan                  </td> <td>nan                </td> <td>nan              </td> <td>nan                     </td> <td>nan                          </td> <td>nan              </td> <td>nan      </td> <td>nan        </td> <td>nan                     </td> <td>nan                      </td> <td>nan                   </td> <td>nan                  </td> <td>nan                      </td> <td>nan                         </td> <td>nan                      </td> <td>nan                   </td> <td>nan                        </td> <td>nan                    </td> <td>nan                    </td> <td>nan                    </td> <td>nan                </td>\n",
       "        </tr>\n",
       "        <tr>\n",
       "            <td>163  </td> <td>{\"img_src\":\"https://photos.simonwillison.net/i/502fbb347 ...</td> <td>70B3C358-DA0D-469F-B667-F0045F445AC6</td> <td>2020-05-19T04:31:43+00:00</td> <td>[\"Public\"]                           </td> <td>[]               </td> <td>heic</td> <td>502fbb347dc72fbffbddb7b92326f6ddbeb6d27a77d9761fb5406bd5 ...</td> <td>1070208</td> <td>37.7709 </td> <td>-122.477 </td> <td>1       </td> <td>0       </td> <td>0         </td> <td>0      </td> <td>0         </td> <td>0   </td> <td>0     </td> <td>0       </td> <td>San Francisco</td> <td>CA                  </td> <td>United States</td> <td>nan  </td> <td>nan                   </td> <td>nan           </td> <td>nan            </td> <td>nan                      </td> <td>nan             </td> <td>nan          </td> <td>nan                  </td> <td>nan                </td> <td>nan              </td> <td>nan                     </td> <td>nan                          </td> <td>nan              </td> <td>nan      </td> <td>nan        </td> <td>nan                     </td> <td>nan                      </td> <td>nan                   </td> <td>nan                  </td> <td>nan                      </td> <td>nan                         </td> <td>nan                      </td> <td>nan                   </td> <td>nan                        </td> <td>nan                    </td> <td>nan                    </td> <td>nan                    </td> <td>nan                </td>\n",
       "        </tr>\n",
       "        <tr>\n",
       "            <td>427  </td> <td>{\"img_src\":\"https://photos.simonwillison.net/i/d8a8d9d59 ...</td> <td>1FADC083-2278-4D40-A8A0-45AF6D47458F</td> <td>2020-05-16T22:15:20+00:00</td> <td>[\"Public\"]                           </td> <td>[]               </td> <td>jpeg</td> <td>d8a8d9d590e25d16c5f1da8a29d2c4cc42d0c8028145f604a5f9292c ...</td> <td>7218635</td> <td>nan     </td> <td>nan      </td> <td>1       </td> <td>0       </td> <td>0         </td> <td>0      </td> <td>0         </td> <td>0   </td> <td>0     </td> <td>0       </td> <td>nan          </td> <td>nan                 </td> <td>nan          </td> <td>nan  </td> <td>nan                   </td> <td>nan           </td> <td>nan            </td> <td>nan                      </td> <td>nan             </td> <td>nan          </td> <td>nan                  </td> <td>nan                </td> <td>nan              </td> <td>nan                     </td> <td>nan                          </td> <td>nan              </td> <td>nan      </td> <td>nan        </td> <td>nan                     </td> <td>nan                      </td> <td>nan                   </td> <td>nan                  </td> <td>nan                      </td> <td>nan                         </td> <td>nan                      </td> <td>nan                   </td> <td>nan                        </td> <td>nan                    </td> <td>nan                    </td> <td>nan                    </td> <td>nan                </td>\n",
       "        </tr>\n",
       "        <tr>\n",
       "            <td>57   </td> <td>{\"img_src\":\"https://photos.simonwillison.net/i/1bb184872 ...</td> <td>086ADA1B-8C59-41F1-88C3-49A6ABEEDF60</td> <td>2020-05-15T21:57:58+00:00</td> <td>[\"Public\"]                           </td> <td>[]               </td> <td>heic</td> <td>1bb184872fa6a61afc7e3629b45f57f161065b283d2005c2699242ca ...</td> <td>4686204</td> <td>37.6113 </td> <td>-122.496 </td> <td>1       </td> <td>0       </td> <td>0         </td> <td>0      </td> <td>0         </td> <td>0   </td> <td>0     </td> <td>0       </td> <td>Pacifica     </td> <td>CA                  </td> <td>United States</td> <td>nan  </td> <td>nan                   </td> <td>nan           </td> <td>nan            </td> <td>nan                      </td> <td>nan             </td> <td>nan          </td> <td>nan                  </td> <td>nan                </td> <td>nan              </td> <td>nan                     </td> <td>nan                          </td> <td>nan              </td> <td>nan      </td> <td>nan        </td> <td>nan                     </td> <td>nan                      </td> <td>nan                   </td> <td>nan                  </td> <td>nan                      </td> <td>nan                         </td> <td>nan                      </td> <td>nan                   </td> <td>nan                        </td> <td>nan                    </td> <td>nan                    </td> <td>nan                    </td> <td>nan                </td>\n",
       "        </tr>\n",
       "        <tr>\n",
       "            <td>76   </td> <td>{\"img_src\":\"https://photos.simonwillison.net/i/2255b2c89 ...</td> <td>C4D15F2D-8571-447F-B195-05FCDD09A6B5</td> <td>2020-05-07T16:53:21+00:00</td> <td>[\"Photography photo essay\", \"Public\"]</td> <td>[]               </td> <td>jpeg</td> <td>2255b2c89fd53713fbe7619b0cf93798b616f09ec8f70bf4463571d9 ...</td> <td>5833242</td> <td>nan     </td> <td>nan      </td> <td>1       </td> <td>0       </td> <td>0         </td> <td>0      </td> <td>0         </td> <td>0   </td> <td>0     </td> <td>0       </td> <td>nan          </td> <td>nan                 </td> <td>nan          </td> <td>nan  </td> <td>nan                   </td> <td>nan           </td> <td>nan            </td> <td>nan                      </td> <td>nan             </td> <td>nan          </td> <td>nan                  </td> <td>nan                </td> <td>nan              </td> <td>nan                     </td> <td>nan                          </td> <td>nan              </td> <td>nan      </td> <td>nan        </td> <td>nan                     </td> <td>nan                      </td> <td>nan                   </td> <td>nan                  </td> <td>nan                      </td> <td>nan                         </td> <td>nan                      </td> <td>nan                   </td> <td>nan                        </td> <td>nan                    </td> <td>nan                    </td> <td>nan                    </td> <td>nan                </td>\n",
       "        </tr>\n",
       "        <tr>\n",
       "            <td>476  </td> <td>{\"img_src\":\"https://photos.simonwillison.net/i/f3c765416 ...</td> <td>6ABAD7FA-24CD-4ED7-BB76-6EECB1CCCACC</td> <td>2020-05-07T16:52:48+00:00</td> <td>[\"Photography photo essay\", \"Public\"]</td> <td>[]               </td> <td>jpeg</td> <td>f3c765416273a026a566354bccde331bb60228cba6e23452aad503dd ...</td> <td>5120721</td> <td>nan     </td> <td>nan      </td> <td>1       </td> <td>0       </td> <td>0         </td> <td>0      </td> <td>0         </td> <td>0   </td> <td>0     </td> <td>0       </td> <td>nan          </td> <td>nan                 </td> <td>nan          </td> <td>nan  </td> <td>nan                   </td> <td>nan           </td> <td>nan            </td> <td>nan                      </td> <td>nan             </td> <td>nan          </td> <td>nan                  </td> <td>nan                </td> <td>nan              </td> <td>nan                     </td> <td>nan                          </td> <td>nan              </td> <td>nan      </td> <td>nan        </td> <td>nan                     </td> <td>nan                      </td> <td>nan                   </td> <td>nan                  </td> <td>nan                      </td> <td>nan                         </td> <td>nan                      </td> <td>nan                   </td> <td>nan                        </td> <td>nan                    </td> <td>nan                    </td> <td>nan                    </td> <td>nan                </td>\n",
       "        </tr>\n",
       "        <tr>\n",
       "            <td>344  </td> <td>{\"img_src\":\"https://photos.simonwillison.net/i/a70e4feeb ...</td> <td>B4E86A08-9A42-4CD8-B609-0C5F2FDC1C1A</td> <td>2020-05-07T16:45:25+00:00</td> <td>[\"Photography photo essay\", \"Public\"]</td> <td>[]               </td> <td>jpeg</td> <td>a70e4feebebb39ea1227431432c17a6bc62ea261912e6aa121142839 ...</td> <td>8385771</td> <td>nan     </td> <td>nan      </td> <td>1       </td> <td>0       </td> <td>0         </td> <td>0      </td> <td>0         </td> <td>0   </td> <td>0     </td> <td>0       </td> <td>nan          </td> <td>nan                 </td> <td>nan          </td> <td>nan  </td> <td>nan                   </td> <td>nan           </td> <td>nan            </td> <td>nan                      </td> <td>nan             </td> <td>nan          </td> <td>nan                  </td> <td>nan                </td> <td>nan              </td> <td>nan                     </td> <td>nan                          </td> <td>nan              </td> <td>nan      </td> <td>nan        </td> <td>nan                     </td> <td>nan                      </td> <td>nan                   </td> <td>nan                  </td> <td>nan                      </td> <td>nan                         </td> <td>nan                      </td> <td>nan                   </td> <td>nan                        </td> <td>nan                    </td> <td>nan                    </td> <td>nan                    </td> <td>nan                </td>\n",
       "        </tr>\n",
       "        <tr>\n",
       "            <td>425  </td> <td>{\"img_src\":\"https://photos.simonwillison.net/i/d840616a2 ...</td> <td>B05A77E3-990A-4C34-8524-9B1A407076D4</td> <td>2020-05-07T16:43:04+00:00</td> <td>[\"Photography photo essay\", \"Public\"]</td> <td>[]               </td> <td>jpeg</td> <td>d840616a2d89956d7bec390b079db7f91a709acf959cf3b9516cb750 ...</td> <td>6425141</td> <td>nan     </td> <td>nan      </td> <td>1       </td> <td>0       </td> <td>0         </td> <td>0      </td> <td>0         </td> <td>0   </td> <td>0     </td> <td>0       </td> <td>nan          </td> <td>nan                 </td> <td>nan          </td> <td>nan  </td> <td>nan                   </td> <td>nan           </td> <td>nan            </td> <td>nan                      </td> <td>nan             </td> <td>nan          </td> <td>nan                  </td> <td>nan                </td> <td>nan              </td> <td>nan                     </td> <td>nan                          </td> <td>nan              </td> <td>nan      </td> <td>nan        </td> <td>nan                     </td> <td>nan                      </td> <td>nan                   </td> <td>nan                  </td> <td>nan                      </td> <td>nan                         </td> <td>nan                      </td> <td>nan                   </td> <td>nan                        </td> <td>nan                    </td> <td>nan                    </td> <td>nan                    </td> <td>nan                </td>\n",
       "        </tr>\n",
       "        <tr>\n",
       "            <td>146  </td> <td>{\"img_src\":\"https://photos.simonwillison.net/i/447a9f051 ...</td> <td>1F2AB404-400E-4CF9-8D71-00BF4D0FD1F6</td> <td>2020-05-07T01:33:26+00:00</td> <td>[\"Photography photo essay\", \"Public\"]</td> <td>[]               </td> <td>jpeg</td> <td>447a9f051d572fc50f2b2ace488986da0fc75ffe3e43395e8ab79f45 ...</td> <td>6866686</td> <td>nan     </td> <td>nan      </td> <td>1       </td> <td>0       </td> <td>0         </td> <td>0      </td> <td>0         </td> <td>0   </td> <td>0     </td> <td>0       </td> <td>nan          </td> <td>nan                 </td> <td>nan          </td> <td>nan  </td> <td>nan                   </td> <td>nan           </td> <td>nan            </td> <td>nan                      </td> <td>nan             </td> <td>nan          </td> <td>nan                  </td> <td>nan                </td> <td>nan              </td> <td>nan                     </td> <td>nan                          </td> <td>nan              </td> <td>nan      </td> <td>nan        </td> <td>nan                     </td> <td>nan                      </td> <td>nan                   </td> <td>nan                  </td> <td>nan                      </td> <td>nan                         </td> <td>nan                      </td> <td>nan                   </td> <td>nan                        </td> <td>nan                    </td> <td>nan                    </td> <td>nan                    </td> <td>nan                </td>\n",
       "        </tr>\n",
       "    </tbody>\n",
       "</table>\n",
       "<p>... (478 rows omitted)</p>"
      ],
      "text/plain": [
       "rowid | photo                                                        | uuid                                 | date                      | albums                                | persons           | ext  | sha256                                                       | size    | latitude | longitude | favorite | portrait | screenshot | slow_mo | time_lapse | hdr  | selfie | panorama | place_city    | place_state_province | place_country | ZUUID | ZOVERALLAESTHETICSCORE | ZCURATIONSCORE | ZPROMOTIONSCORE | ZHIGHLIGHTVISIBILITYSCORE | ZBEHAVIORALSCORE | ZFAILURESCORE | ZHARMONIOUSCOLORSCORE | ZIMMERSIVENESSSCORE | ZINTERACTIONSCORE | ZINTERESTINGSUBJECTSCORE | ZINTRUSIVEOBJECTPRESENCESCORE | ZLIVELYCOLORSCORE | ZLOWLIGHT | ZNOISESCORE | ZPLEASANTCAMERATILTSCORE | ZPLEASANTCOMPOSITIONSCORE | ZPLEASANTLIGHTINGSCORE | ZPLEASANTPATTERNSCORE | ZPLEASANTPERSPECTIVESCORE | ZPLEASANTPOSTPROCESSINGSCORE | ZPLEASANTREFLECTIONSSCORE | ZPLEASANTSYMMETRYSCORE | ZSHARPLYFOCUSEDSUBJECTSCORE | ZTASTEFULLYBLURREDSCORE | ZWELLCHOSENSUBJECTSCORE | ZWELLFRAMEDSUBJECTSCORE | ZWELLTIMEDSHOTSCORE\n",
       "280   | {\"img_src\":\"https://photos.simonwillison.net/i/864ec4f46 ... | 17AF724E-5561-4DF0-877F-DE60DBBBA8B9 | 2020-05-19T04:34:48+00:00 | [\"Public\"]                            | [\"Natalie Downe\"] | jpeg | 864ec4f46779b8892961f816730c9b2945989731f1506bc835f9a322 ... | 8346279 | nan      | nan       | 1        | 0        | 0          | 0       | 0          | 0    | 0      | 0        | nan           | nan                  | nan           | nan   | nan                    | nan            | nan             | nan                       | nan              | nan           | nan                   | nan                 | nan               | nan                      | nan                           | nan               | nan       | nan         | nan                      | nan                       | nan                    | nan                   | nan                       | nan                          | nan                       | nan                    | nan                         | nan                     | nan                     | nan                     | nan\n",
       "68    | {\"img_src\":\"https://photos.simonwillison.net/i/1eb3a357d ... | 63ED2057-1E46-45AF-9F7D-1DE5F84BEBFD | 2020-05-19T04:32:54+00:00 | [\"Public\"]                            | []                | jpeg | 1eb3a357d57391efeec21aed767c395645bfa2bb882d75ce85c7dfa4 ... | 8794906 | nan      | nan       | 1        | 0        | 0          | 0       | 0          | 0    | 0      | 0        | nan           | nan                  | nan           | nan   | nan                    | nan            | nan             | nan                       | nan              | nan           | nan                   | nan                 | nan               | nan                      | nan                           | nan               | nan       | nan         | nan                      | nan                       | nan                    | nan                   | nan                       | nan                          | nan                       | nan                    | nan                         | nan                     | nan                     | nan                     | nan\n",
       "163   | {\"img_src\":\"https://photos.simonwillison.net/i/502fbb347 ... | 70B3C358-DA0D-469F-B667-F0045F445AC6 | 2020-05-19T04:31:43+00:00 | [\"Public\"]                            | []                | heic | 502fbb347dc72fbffbddb7b92326f6ddbeb6d27a77d9761fb5406bd5 ... | 1070208 | 37.7709  | -122.477  | 1        | 0        | 0          | 0       | 0          | 0    | 0      | 0        | San Francisco | CA                   | United States | nan   | nan                    | nan            | nan             | nan                       | nan              | nan           | nan                   | nan                 | nan               | nan                      | nan                           | nan               | nan       | nan         | nan                      | nan                       | nan                    | nan                   | nan                       | nan                          | nan                       | nan                    | nan                         | nan                     | nan                     | nan                     | nan\n",
       "427   | {\"img_src\":\"https://photos.simonwillison.net/i/d8a8d9d59 ... | 1FADC083-2278-4D40-A8A0-45AF6D47458F | 2020-05-16T22:15:20+00:00 | [\"Public\"]                            | []                | jpeg | d8a8d9d590e25d16c5f1da8a29d2c4cc42d0c8028145f604a5f9292c ... | 7218635 | nan      | nan       | 1        | 0        | 0          | 0       | 0          | 0    | 0      | 0        | nan           | nan                  | nan           | nan   | nan                    | nan            | nan             | nan                       | nan              | nan           | nan                   | nan                 | nan               | nan                      | nan                           | nan               | nan       | nan         | nan                      | nan                       | nan                    | nan                   | nan                       | nan                          | nan                       | nan                    | nan                         | nan                     | nan                     | nan                     | nan\n",
       "57    | {\"img_src\":\"https://photos.simonwillison.net/i/1bb184872 ... | 086ADA1B-8C59-41F1-88C3-49A6ABEEDF60 | 2020-05-15T21:57:58+00:00 | [\"Public\"]                            | []                | heic | 1bb184872fa6a61afc7e3629b45f57f161065b283d2005c2699242ca ... | 4686204 | 37.6113  | -122.496  | 1        | 0        | 0          | 0       | 0          | 0    | 0      | 0        | Pacifica      | CA                   | United States | nan   | nan                    | nan            | nan             | nan                       | nan              | nan           | nan                   | nan                 | nan               | nan                      | nan                           | nan               | nan       | nan         | nan                      | nan                       | nan                    | nan                   | nan                       | nan                          | nan                       | nan                    | nan                         | nan                     | nan                     | nan                     | nan\n",
       "76    | {\"img_src\":\"https://photos.simonwillison.net/i/2255b2c89 ... | C4D15F2D-8571-447F-B195-05FCDD09A6B5 | 2020-05-07T16:53:21+00:00 | [\"Photography photo essay\", \"Public\"] | []                | jpeg | 2255b2c89fd53713fbe7619b0cf93798b616f09ec8f70bf4463571d9 ... | 5833242 | nan      | nan       | 1        | 0        | 0          | 0       | 0          | 0    | 0      | 0        | nan           | nan                  | nan           | nan   | nan                    | nan            | nan             | nan                       | nan              | nan           | nan                   | nan                 | nan               | nan                      | nan                           | nan               | nan       | nan         | nan                      | nan                       | nan                    | nan                   | nan                       | nan                          | nan                       | nan                    | nan                         | nan                     | nan                     | nan                     | nan\n",
       "476   | {\"img_src\":\"https://photos.simonwillison.net/i/f3c765416 ... | 6ABAD7FA-24CD-4ED7-BB76-6EECB1CCCACC | 2020-05-07T16:52:48+00:00 | [\"Photography photo essay\", \"Public\"] | []                | jpeg | f3c765416273a026a566354bccde331bb60228cba6e23452aad503dd ... | 5120721 | nan      | nan       | 1        | 0        | 0          | 0       | 0          | 0    | 0      | 0        | nan           | nan                  | nan           | nan   | nan                    | nan            | nan             | nan                       | nan              | nan           | nan                   | nan                 | nan               | nan                      | nan                           | nan               | nan       | nan         | nan                      | nan                       | nan                    | nan                   | nan                       | nan                          | nan                       | nan                    | nan                         | nan                     | nan                     | nan                     | nan\n",
       "344   | {\"img_src\":\"https://photos.simonwillison.net/i/a70e4feeb ... | B4E86A08-9A42-4CD8-B609-0C5F2FDC1C1A | 2020-05-07T16:45:25+00:00 | [\"Photography photo essay\", \"Public\"] | []                | jpeg | a70e4feebebb39ea1227431432c17a6bc62ea261912e6aa121142839 ... | 8385771 | nan      | nan       | 1        | 0        | 0          | 0       | 0          | 0    | 0      | 0        | nan           | nan                  | nan           | nan   | nan                    | nan            | nan             | nan                       | nan              | nan           | nan                   | nan                 | nan               | nan                      | nan                           | nan               | nan       | nan         | nan                      | nan                       | nan                    | nan                   | nan                       | nan                          | nan                       | nan                    | nan                         | nan                     | nan                     | nan                     | nan\n",
       "425   | {\"img_src\":\"https://photos.simonwillison.net/i/d840616a2 ... | B05A77E3-990A-4C34-8524-9B1A407076D4 | 2020-05-07T16:43:04+00:00 | [\"Photography photo essay\", \"Public\"] | []                | jpeg | d840616a2d89956d7bec390b079db7f91a709acf959cf3b9516cb750 ... | 6425141 | nan      | nan       | 1        | 0        | 0          | 0       | 0          | 0    | 0      | 0        | nan           | nan                  | nan           | nan   | nan                    | nan            | nan             | nan                       | nan              | nan           | nan                   | nan                 | nan               | nan                      | nan                           | nan               | nan       | nan         | nan                      | nan                       | nan                    | nan                   | nan                       | nan                          | nan                       | nan                    | nan                         | nan                     | nan                     | nan                     | nan\n",
       "146   | {\"img_src\":\"https://photos.simonwillison.net/i/447a9f051 ... | 1F2AB404-400E-4CF9-8D71-00BF4D0FD1F6 | 2020-05-07T01:33:26+00:00 | [\"Photography photo essay\", \"Public\"] | []                | jpeg | 447a9f051d572fc50f2b2ace488986da0fc75ffe3e43395e8ab79f45 ... | 6866686 | nan      | nan       | 1        | 0        | 0          | 0       | 0          | 0    | 0      | 0        | nan           | nan                  | nan           | nan   | nan                    | nan            | nan             | nan                       | nan              | nan           | nan                   | nan                 | nan               | nan                      | nan                           | nan               | nan       | nan         | nan                      | nan                       | nan                    | nan                   | nan                       | nan                          | nan                       | nan                    | nan                         | nan                     | nan                     | nan                     | nan\n",
       "... (478 rows omitted)"
      ]
     },
     "execution_count": 36,
     "metadata": {},
     "output_type": "execute_result"
    }
   ],
   "source": [
    "photos"
   ]
  },
  {
   "cell_type": "markdown",
   "id": "absolute-catering",
   "metadata": {},
   "source": [
    "There's a lot of attributes in this table! Let's just keep a few to work with:\n",
    "\n",
    "* photo\n",
    "* uuid\n",
    "* date\n",
    "* place_city\n",
    "* place_state_province\n",
    "* place_country\n",
    "* ZOVERALLAESTHETICSCORE\n",
    "* pick another 1 or 2 that you're interested in exploring\n",
    "\n",
    "Modify the cell below so you're selecting only the columns we've identified to work with."
   ]
  },
  {
   "cell_type": "code",
   "execution_count": 48,
   "id": "sporting-brass",
   "metadata": {},
   "outputs": [
    {
     "data": {
      "text/plain": [
       "Ellipsis"
      ]
     },
     "execution_count": 48,
     "metadata": {},
     "output_type": "execute_result"
    }
   ],
   "source": [
    "my_photos = ...\n",
    "my_photos"
   ]
  },
  {
   "cell_type": "markdown",
   "id": "circular-uncertainty",
   "metadata": {},
   "source": [
    "Explore this data set. Some questions to consider:\n",
    "\n",
    "1. What does Apple think is the \"best\" photo? By what measure?\n",
    "2. How many photos were taken in the country of France? The city of Sausalito?\n",
    "3. Something of your choosing!"
   ]
  },
  {
   "cell_type": "markdown",
   "id": "celtic-emission",
   "metadata": {},
   "source": [
    "### Labels\n",
    "\n",
    "Start by looking at what the `labels` table contains:"
   ]
  },
  {
   "cell_type": "code",
   "execution_count": 31,
   "id": "developing-bedroom",
   "metadata": {},
   "outputs": [
    {
     "data": {
      "text/html": [
       "<table border=\"1\" class=\"dataframe\">\n",
       "    <thead>\n",
       "        <tr>\n",
       "            <th>id</th> <th>uuid</th> <th>groupid</th> <th>category</th> <th>owning_groupid</th> <th>content_string</th> <th>normalized_string</th> <th>lookup_identifier</th>\n",
       "        </tr>\n",
       "    </thead>\n",
       "    <tbody>\n",
       "        <tr>\n",
       "            <td>1179 </td> <td>DEA5349B-F370-47FA-97E1-5ABAEED723AD</td> <td>161    </td> <td>2055    </td> <td>0             </td> <td>Favorites     </td> <td>favorites        </td> <td>nan              </td>\n",
       "        </tr>\n",
       "        <tr>\n",
       "            <td>1180 </td> <td>DEA5349B-F370-47FA-97E1-5ABAEED723AD</td> <td>3      </td> <td>2030    </td> <td>0             </td> <td>Spring        </td> <td>spring           </td> <td>nan              </td>\n",
       "        </tr>\n",
       "        <tr>\n",
       "            <td>1181 </td> <td>DEA5349B-F370-47FA-97E1-5ABAEED723AD</td> <td>4      </td> <td>1014    </td> <td>0             </td> <td>April         </td> <td>april            </td> <td>nan              </td>\n",
       "        </tr>\n",
       "        <tr>\n",
       "            <td>1182 </td> <td>DEA5349B-F370-47FA-97E1-5ABAEED723AD</td> <td>5      </td> <td>1015    </td> <td>0             </td> <td>2020          </td> <td>2020             </td> <td>nan              </td>\n",
       "        </tr>\n",
       "        <tr>\n",
       "            <td>1183 </td> <td>DEA5349B-F370-47FA-97E1-5ABAEED723AD</td> <td>162    </td> <td>2056    </td> <td>0             </td> <td>IMG_0523.JPG  </td> <td>img_0523.jpg     </td> <td>nan              </td>\n",
       "        </tr>\n",
       "        <tr>\n",
       "            <td>12048</td> <td>92A798FF-8270-42BA-967F-41C0B3CB86DF</td> <td>161    </td> <td>2055    </td> <td>0             </td> <td>Favorites     </td> <td>favorites        </td> <td>nan              </td>\n",
       "        </tr>\n",
       "        <tr>\n",
       "            <td>12049</td> <td>92A798FF-8270-42BA-967F-41C0B3CB86DF</td> <td>296    </td> <td>2024    </td> <td>0             </td> <td>Outdoor       </td> <td>outdoor          </td> <td>nan              </td>\n",
       "        </tr>\n",
       "        <tr>\n",
       "            <td>12050</td> <td>92A798FF-8270-42BA-967F-41C0B3CB86DF</td> <td>295    </td> <td>2024    </td> <td>0             </td> <td>Land          </td> <td>land             </td> <td>nan              </td>\n",
       "        </tr>\n",
       "        <tr>\n",
       "            <td>12051</td> <td>92A798FF-8270-42BA-967F-41C0B3CB86DF</td> <td>313    </td> <td>2024    </td> <td>0             </td> <td>Mammal        </td> <td>mammal           </td> <td>nan              </td>\n",
       "        </tr>\n",
       "        <tr>\n",
       "            <td>12052</td> <td>92A798FF-8270-42BA-967F-41C0B3CB86DF</td> <td>1591   </td> <td>2024    </td> <td>0             </td> <td>Seal          </td> <td>seal             </td> <td>nan              </td>\n",
       "        </tr>\n",
       "    </tbody>\n",
       "</table>\n",
       "<p>... (990 rows omitted)</p>"
      ],
      "text/plain": [
       "id    | uuid                                 | groupid | category | owning_groupid | content_string | normalized_string | lookup_identifier\n",
       "1179  | DEA5349B-F370-47FA-97E1-5ABAEED723AD | 161     | 2055     | 0              | Favorites      | favorites         | nan\n",
       "1180  | DEA5349B-F370-47FA-97E1-5ABAEED723AD | 3       | 2030     | 0              | Spring         | spring            | nan\n",
       "1181  | DEA5349B-F370-47FA-97E1-5ABAEED723AD | 4       | 1014     | 0              | April          | april             | nan\n",
       "1182  | DEA5349B-F370-47FA-97E1-5ABAEED723AD | 5       | 1015     | 0              | 2020           | 2020              | nan\n",
       "1183  | DEA5349B-F370-47FA-97E1-5ABAEED723AD | 162     | 2056     | 0              | IMG_0523.JPG   | img_0523.jpg      | nan\n",
       "12048 | 92A798FF-8270-42BA-967F-41C0B3CB86DF | 161     | 2055     | 0              | Favorites      | favorites         | nan\n",
       "12049 | 92A798FF-8270-42BA-967F-41C0B3CB86DF | 296     | 2024     | 0              | Outdoor        | outdoor           | nan\n",
       "12050 | 92A798FF-8270-42BA-967F-41C0B3CB86DF | 295     | 2024     | 0              | Land           | land              | nan\n",
       "12051 | 92A798FF-8270-42BA-967F-41C0B3CB86DF | 313     | 2024     | 0              | Mammal         | mammal            | nan\n",
       "12052 | 92A798FF-8270-42BA-967F-41C0B3CB86DF | 1591    | 2024     | 0              | Seal           | seal              | nan\n",
       "... (990 rows omitted)"
      ]
     },
     "execution_count": 31,
     "metadata": {},
     "output_type": "execute_result"
    }
   ],
   "source": [
    "labels"
   ]
  },
  {
   "cell_type": "markdown",
   "id": "supposed-guidance",
   "metadata": {},
   "source": [
    "Let's only keep the `uuid` and `normalized_string` columns, the rest won't be too interesting:"
   ]
  },
  {
   "cell_type": "code",
   "execution_count": 41,
   "id": "fifteen-investment",
   "metadata": {},
   "outputs": [
    {
     "data": {
      "text/html": [
       "<table border=\"1\" class=\"dataframe\">\n",
       "    <thead>\n",
       "        <tr>\n",
       "            <th>uuid</th> <th>normalized_string</th>\n",
       "        </tr>\n",
       "    </thead>\n",
       "    <tbody>\n",
       "        <tr>\n",
       "            <td>DEA5349B-F370-47FA-97E1-5ABAEED723AD</td> <td>favorites        </td>\n",
       "        </tr>\n",
       "        <tr>\n",
       "            <td>DEA5349B-F370-47FA-97E1-5ABAEED723AD</td> <td>spring           </td>\n",
       "        </tr>\n",
       "        <tr>\n",
       "            <td>DEA5349B-F370-47FA-97E1-5ABAEED723AD</td> <td>april            </td>\n",
       "        </tr>\n",
       "        <tr>\n",
       "            <td>DEA5349B-F370-47FA-97E1-5ABAEED723AD</td> <td>2020             </td>\n",
       "        </tr>\n",
       "        <tr>\n",
       "            <td>DEA5349B-F370-47FA-97E1-5ABAEED723AD</td> <td>img_0523.jpg     </td>\n",
       "        </tr>\n",
       "        <tr>\n",
       "            <td>92A798FF-8270-42BA-967F-41C0B3CB86DF</td> <td>favorites        </td>\n",
       "        </tr>\n",
       "        <tr>\n",
       "            <td>92A798FF-8270-42BA-967F-41C0B3CB86DF</td> <td>outdoor          </td>\n",
       "        </tr>\n",
       "        <tr>\n",
       "            <td>92A798FF-8270-42BA-967F-41C0B3CB86DF</td> <td>land             </td>\n",
       "        </tr>\n",
       "        <tr>\n",
       "            <td>92A798FF-8270-42BA-967F-41C0B3CB86DF</td> <td>mammal           </td>\n",
       "        </tr>\n",
       "        <tr>\n",
       "            <td>92A798FF-8270-42BA-967F-41C0B3CB86DF</td> <td>seal             </td>\n",
       "        </tr>\n",
       "    </tbody>\n",
       "</table>\n",
       "<p>... (990 rows omitted)</p>"
      ],
      "text/plain": [
       "uuid                                 | normalized_string\n",
       "DEA5349B-F370-47FA-97E1-5ABAEED723AD | favorites\n",
       "DEA5349B-F370-47FA-97E1-5ABAEED723AD | spring\n",
       "DEA5349B-F370-47FA-97E1-5ABAEED723AD | april\n",
       "DEA5349B-F370-47FA-97E1-5ABAEED723AD | 2020\n",
       "DEA5349B-F370-47FA-97E1-5ABAEED723AD | img_0523.jpg\n",
       "92A798FF-8270-42BA-967F-41C0B3CB86DF | favorites\n",
       "92A798FF-8270-42BA-967F-41C0B3CB86DF | outdoor\n",
       "92A798FF-8270-42BA-967F-41C0B3CB86DF | land\n",
       "92A798FF-8270-42BA-967F-41C0B3CB86DF | mammal\n",
       "92A798FF-8270-42BA-967F-41C0B3CB86DF | seal\n",
       "... (990 rows omitted)"
      ]
     },
     "execution_count": 41,
     "metadata": {},
     "output_type": "execute_result"
    }
   ],
   "source": [
    "my_labels = labels.select('uuid', 'normalized_string')\n",
    "my_labels"
   ]
  },
  {
   "cell_type": "markdown",
   "id": "million-transaction",
   "metadata": {},
   "source": [
    "Let's create a table with observations where the photos contain a pelican. We'll call this table  `pelican_uuid`, because we are interested in using the UUID to match it back to our `my_photos` table, which has a lot more information on the photo. \n",
    "\n",
    "Complete the code below to accomplish this:"
   ]
  },
  {
   "cell_type": "code",
   "execution_count": 44,
   "id": "impossible-transparency",
   "metadata": {},
   "outputs": [
    {
     "data": {
      "text/html": [
       "<table border=\"1\" class=\"dataframe\">\n",
       "    <thead>\n",
       "        <tr>\n",
       "            <th>uuid</th> <th>normalized_string</th>\n",
       "        </tr>\n",
       "    </thead>\n",
       "    <tbody>\n",
       "        <tr>\n",
       "            <td>01CEBCA2-922B-407C-A726-95D9E0EAB31C</td> <td>pelican          </td>\n",
       "        </tr>\n",
       "        <tr>\n",
       "            <td>08D18A51-8004-4F00-B79E-4AA1628FB111</td> <td>pelican          </td>\n",
       "        </tr>\n",
       "        <tr>\n",
       "            <td>0A9EB544-AC29-4D70-BDD2-4DF2E53D6E1A</td> <td>pelican          </td>\n",
       "        </tr>\n",
       "        <tr>\n",
       "            <td>1B6765D2-F281-48DB-A23A-C081FFAC69DC</td> <td>pelican          </td>\n",
       "        </tr>\n",
       "        <tr>\n",
       "            <td>2B4AD4FE-BEB7-4E86-84B4-2BEBA79615F7</td> <td>pelican          </td>\n",
       "        </tr>\n",
       "        <tr>\n",
       "            <td>2C40753A-80EB-4B9E-B0C4-678E61A06C55</td> <td>pelican          </td>\n",
       "        </tr>\n",
       "        <tr>\n",
       "            <td>398058A8-F11E-4306-8272-05A438B6E523</td> <td>pelican          </td>\n",
       "        </tr>\n",
       "        <tr>\n",
       "            <td>41CFBC2A-16F0-4F09-9A9F-5B83AA554B1D</td> <td>pelican          </td>\n",
       "        </tr>\n",
       "        <tr>\n",
       "            <td>429A1239-744D-4A61-A33B-1BF261584128</td> <td>pelican          </td>\n",
       "        </tr>\n",
       "        <tr>\n",
       "            <td>46ABC862-9837-404A-832B-4158270704FF</td> <td>pelican          </td>\n",
       "        </tr>\n",
       "    </tbody>\n",
       "</table>\n",
       "<p>... (21 rows omitted)</p>"
      ],
      "text/plain": [
       "uuid                                 | normalized_string\n",
       "01CEBCA2-922B-407C-A726-95D9E0EAB31C | pelican\n",
       "08D18A51-8004-4F00-B79E-4AA1628FB111 | pelican\n",
       "0A9EB544-AC29-4D70-BDD2-4DF2E53D6E1A | pelican\n",
       "1B6765D2-F281-48DB-A23A-C081FFAC69DC | pelican\n",
       "2B4AD4FE-BEB7-4E86-84B4-2BEBA79615F7 | pelican\n",
       "2C40753A-80EB-4B9E-B0C4-678E61A06C55 | pelican\n",
       "398058A8-F11E-4306-8272-05A438B6E523 | pelican\n",
       "41CFBC2A-16F0-4F09-9A9F-5B83AA554B1D | pelican\n",
       "429A1239-744D-4A61-A33B-1BF261584128 | pelican\n",
       "46ABC862-9837-404A-832B-4158270704FF | pelican\n",
       "... (21 rows omitted)"
      ]
     },
     "execution_count": 44,
     "metadata": {},
     "output_type": "execute_result"
    }
   ],
   "source": [
    "pelican_uuid = ...\n",
    "pelican_uuid"
   ]
  },
  {
   "cell_type": "markdown",
   "id": "occasional-illness",
   "metadata": {},
   "source": [
    "The code below will create a new table, `pelican_photos` which has all the information found in `my_photos`, but only for the photos we found in the `pelican_uuid` table. You don't need to understand what it's doing quite yet:"
   ]
  },
  {
   "cell_type": "code",
   "execution_count": 47,
   "id": "outer-payroll",
   "metadata": {},
   "outputs": [
    {
     "data": {
      "text/html": [
       "<table border=\"1\" class=\"dataframe\">\n",
       "    <thead>\n",
       "        <tr>\n",
       "            <th>uuid</th> <th>photo</th> <th>normalized_string</th>\n",
       "        </tr>\n",
       "    </thead>\n",
       "    <tbody>\n",
       "        <tr>\n",
       "            <td>01CEBCA2-922B-407C-A726-95D9E0EAB31C</td> <td>{\"img_src\":\"https://photos.simonwillison.net/i/83667863d ...</td> <td>pelican          </td>\n",
       "        </tr>\n",
       "        <tr>\n",
       "            <td>08D18A51-8004-4F00-B79E-4AA1628FB111</td> <td>{\"img_src\":\"https://photos.simonwillison.net/i/7e284f6fd ...</td> <td>pelican          </td>\n",
       "        </tr>\n",
       "        <tr>\n",
       "            <td>0A9EB544-AC29-4D70-BDD2-4DF2E53D6E1A</td> <td>{\"img_src\":\"https://photos.simonwillison.net/i/4f164a611 ...</td> <td>pelican          </td>\n",
       "        </tr>\n",
       "        <tr>\n",
       "            <td>1B6765D2-F281-48DB-A23A-C081FFAC69DC</td> <td>{\"img_src\":\"https://photos.simonwillison.net/i/a12312146 ...</td> <td>pelican          </td>\n",
       "        </tr>\n",
       "        <tr>\n",
       "            <td>2B4AD4FE-BEB7-4E86-84B4-2BEBA79615F7</td> <td>{\"img_src\":\"https://photos.simonwillison.net/i/54c548a1c ...</td> <td>pelican          </td>\n",
       "        </tr>\n",
       "        <tr>\n",
       "            <td>2C40753A-80EB-4B9E-B0C4-678E61A06C55</td> <td>{\"img_src\":\"https://photos.simonwillison.net/i/79c147d02 ...</td> <td>pelican          </td>\n",
       "        </tr>\n",
       "        <tr>\n",
       "            <td>398058A8-F11E-4306-8272-05A438B6E523</td> <td>{\"img_src\":\"https://photos.simonwillison.net/i/5bad707a8 ...</td> <td>pelican          </td>\n",
       "        </tr>\n",
       "        <tr>\n",
       "            <td>41CFBC2A-16F0-4F09-9A9F-5B83AA554B1D</td> <td>{\"img_src\":\"https://photos.simonwillison.net/i/88cb2bf72 ...</td> <td>pelican          </td>\n",
       "        </tr>\n",
       "        <tr>\n",
       "            <td>429A1239-744D-4A61-A33B-1BF261584128</td> <td>{\"img_src\":\"https://photos.simonwillison.net/i/9d0b55a18 ...</td> <td>pelican          </td>\n",
       "        </tr>\n",
       "        <tr>\n",
       "            <td>46ABC862-9837-404A-832B-4158270704FF</td> <td>{\"img_src\":\"https://photos.simonwillison.net/i/169984801 ...</td> <td>pelican          </td>\n",
       "        </tr>\n",
       "    </tbody>\n",
       "</table>\n",
       "<p>... (21 rows omitted)</p>"
      ],
      "text/plain": [
       "uuid                                 | photo                                                        | normalized_string\n",
       "01CEBCA2-922B-407C-A726-95D9E0EAB31C | {\"img_src\":\"https://photos.simonwillison.net/i/83667863d ... | pelican\n",
       "08D18A51-8004-4F00-B79E-4AA1628FB111 | {\"img_src\":\"https://photos.simonwillison.net/i/7e284f6fd ... | pelican\n",
       "0A9EB544-AC29-4D70-BDD2-4DF2E53D6E1A | {\"img_src\":\"https://photos.simonwillison.net/i/4f164a611 ... | pelican\n",
       "1B6765D2-F281-48DB-A23A-C081FFAC69DC | {\"img_src\":\"https://photos.simonwillison.net/i/a12312146 ... | pelican\n",
       "2B4AD4FE-BEB7-4E86-84B4-2BEBA79615F7 | {\"img_src\":\"https://photos.simonwillison.net/i/54c548a1c ... | pelican\n",
       "2C40753A-80EB-4B9E-B0C4-678E61A06C55 | {\"img_src\":\"https://photos.simonwillison.net/i/79c147d02 ... | pelican\n",
       "398058A8-F11E-4306-8272-05A438B6E523 | {\"img_src\":\"https://photos.simonwillison.net/i/5bad707a8 ... | pelican\n",
       "41CFBC2A-16F0-4F09-9A9F-5B83AA554B1D | {\"img_src\":\"https://photos.simonwillison.net/i/88cb2bf72 ... | pelican\n",
       "429A1239-744D-4A61-A33B-1BF261584128 | {\"img_src\":\"https://photos.simonwillison.net/i/9d0b55a18 ... | pelican\n",
       "46ABC862-9837-404A-832B-4158270704FF | {\"img_src\":\"https://photos.simonwillison.net/i/169984801 ... | pelican\n",
       "... (21 rows omitted)"
      ]
     },
     "execution_count": 47,
     "metadata": {},
     "output_type": "execute_result"
    }
   ],
   "source": [
    "pelican_photos = my_photos.join( 'uuid', pelican_uuid)\n",
    "pelican_photos"
   ]
  },
  {
   "cell_type": "markdown",
   "id": "automatic-hypothetical",
   "metadata": {},
   "source": [
    "What's the best pelican photo?"
   ]
  },
  {
   "cell_type": "code",
   "execution_count": null,
   "id": "automated-regression",
   "metadata": {},
   "outputs": [],
   "source": []
  }
 ],
 "metadata": {
  "kernelspec": {
   "display_name": "Python 3",
   "language": "python",
   "name": "python3"
  },
  "language_info": {
   "codemirror_mode": {
    "name": "ipython",
    "version": 3
   },
   "file_extension": ".py",
   "mimetype": "text/x-python",
   "name": "python",
   "nbconvert_exporter": "python",
   "pygments_lexer": "ipython3",
   "version": "3.8.6"
  }
 },
 "nbformat": 4,
 "nbformat_minor": 5
}
