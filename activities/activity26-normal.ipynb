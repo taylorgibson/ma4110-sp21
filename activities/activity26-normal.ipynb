{
 "cells": [
  {
   "cell_type": "code",
   "execution_count": null,
   "id": "thousand-miracle",
   "metadata": {},
   "outputs": [],
   "source": [
    "import matplotlib\n",
    "from datascience import *\n",
    "%matplotlib inline\n",
    "import matplotlib.pyplot as plots\n",
    "import numpy as np\n",
    "plots.style.use('fivethirtyeight')"
   ]
  },
  {
   "cell_type": "markdown",
   "id": "controlled-insight",
   "metadata": {},
   "source": [
    "# Activity: Normal Distributions"
   ]
  },
  {
   "cell_type": "markdown",
   "id": "sharing-experiment",
   "metadata": {},
   "source": [
    "The cell below will load in a dataset from Inside Airbnb (http://insideairbnb.com/get-the-data.html) that has details of over 2000 Airbnb listings in Asheville, NC through February 17, 2021. It includes information about the name of the property, the zip code it's in, price, and many other fields.\n",
    "\n",
    "Today, we'll be investigating how we might be able to estimate the average price for a night at an Airbnb. There were a small number (6) listings with prices over 1000 dollars which were removed.\n",
    "\n",
    "**Throughout this activity, we are assuming that we don't have access to the full population to imagine how we might be able to make an estimate about the population mean from a single sample.** As a result, we will try not to inspect the full dataset as much as possible."
   ]
  },
  {
   "cell_type": "code",
   "execution_count": null,
   "id": "changing-scheduling",
   "metadata": {},
   "outputs": [],
   "source": [
    "asheville = Table.read_table('data/asheville-airbnb.csv').where('price', are.below(1000))\n",
    "asheville.show(5)"
   ]
  },
  {
   "cell_type": "code",
   "execution_count": null,
   "id": "silver-status",
   "metadata": {},
   "outputs": [],
   "source": [
    "asheville.hist('price', bins = 20)"
   ]
  },
  {
   "cell_type": "markdown",
   "id": "synthetic-branch",
   "metadata": {},
   "source": [
    "## Pick a sample size\n",
    "\n",
    "If we want to estimate the population mean, we have to make a few choices. As we've seen, larger sample sizes produce more narrow confidence intervals, meaning we have a more precise estimate. However, larger samples are more expensive to take in real life (you have to spend either more time or more money to get more data in your sample). As such, in practice you'll typically decide up front how wide your interval is allowed to be, and then set to work creating a sample of sufficient size to produce an interval of that width. If you were to choose a smaller sample size, your interval would not be narrow enough to provide the required accuracy, a larger sample size will cost more money to provide accuracy you already decided you didn't need. So, how do we choose the correct size? \n",
    "\n",
    "Let's start by just picking a sample size to draw from the population."
   ]
  },
  {
   "cell_type": "code",
   "execution_count": null,
   "id": "hidden-wisconsin",
   "metadata": {},
   "outputs": [],
   "source": [
    "sample_size = 50\n",
    "my_sample = asheville.sample(sample_size)\n",
    "\n",
    "my_sample.show(5)"
   ]
  },
  {
   "cell_type": "markdown",
   "id": "nutritional-elimination",
   "metadata": {},
   "source": [
    "Let's see what type of estimate a sample of this size generates:"
   ]
  },
  {
   "cell_type": "code",
   "execution_count": null,
   "id": "present-translator",
   "metadata": {},
   "outputs": [],
   "source": [
    "def one_bootstrap_mean():\n",
    "    return np.mean(my_sample.sample().column('price'))"
   ]
  },
  {
   "cell_type": "code",
   "execution_count": null,
   "id": "compliant-intellectual",
   "metadata": {},
   "outputs": [],
   "source": [
    "bootstrap_means = make_array()\n",
    "\n",
    "for i in np.arange(1000):\n",
    "    new_mean = one_bootstrap_mean()\n",
    "    bootstrap_means = np.append(bootstrap_means, new_mean)\n",
    "    \n",
    "left = percentile(2.5, bootstrap_means)\n",
    "right = percentile(97.5, bootstrap_means)"
   ]
  },
  {
   "cell_type": "code",
   "execution_count": null,
   "id": "uniform-float",
   "metadata": {},
   "outputs": [],
   "source": [
    "Table().with_column('Bootstrap means', bootstrap_means).hist()\n",
    "\n",
    "plots.plot([left,right], [0,0], color=\"gold\", lw=8, zorder=1);\n",
    "plots.title('Bootstrap Means (1K Bootstraps from our Sample)');\n",
    "print(\"95% CI: (\", left, \",\", right,\")\")\n",
    "print(\"CI Width:\", right-left)"
   ]
  },
  {
   "cell_type": "code",
   "execution_count": null,
   "id": "turkish-johnston",
   "metadata": {},
   "outputs": [],
   "source": []
  }
 ],
 "metadata": {
  "kernelspec": {
   "display_name": "Python 3",
   "language": "python",
   "name": "python3"
  },
  "language_info": {
   "codemirror_mode": {
    "name": "ipython",
    "version": 3
   },
   "file_extension": ".py",
   "mimetype": "text/x-python",
   "name": "python",
   "nbconvert_exporter": "python",
   "pygments_lexer": "ipython3",
   "version": "3.8.6"
  }
 },
 "nbformat": 4,
 "nbformat_minor": 5
}
